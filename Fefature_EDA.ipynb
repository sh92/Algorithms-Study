{
  "nbformat": 4,
  "nbformat_minor": 0,
  "metadata": {
    "colab": {
      "name": "Fefature_EDA.ipynb",
      "provenance": [],
      "mount_file_id": "1oEAye04fmLVPLMn9l6cv2s3fqSyfzI2t",
      "authorship_tag": "ABX9TyNmRhi3EhOZMZLnAIiKcSs8",
      "include_colab_link": true
    },
    "kernelspec": {
      "name": "python3",
      "display_name": "Python 3"
    },
    "language_info": {
      "name": "python"
    }
  },
  "cells": [
    {
      "cell_type": "markdown",
      "metadata": {
        "id": "view-in-github",
        "colab_type": "text"
      },
      "source": [
        "<a href=\"https://colab.research.google.com/github/sh92/Algorithms-Study/blob/master/Fefature_EDA.ipynb\" target=\"_parent\"><img src=\"https://colab.research.google.com/assets/colab-badge.svg\" alt=\"Open In Colab\"/></a>"
      ]
    },
    {
      "cell_type": "code",
      "metadata": {
        "id": "4SyGDFnVjMwd"
      },
      "source": [
        "import pandas as pd\n",
        "from sklearn.model_selection import train_test_split"
      ],
      "execution_count": 12,
      "outputs": []
    },
    {
      "cell_type": "code",
      "metadata": {
        "id": "5TeHIOhasQ98"
      },
      "source": [
        "import numpy as np"
      ],
      "execution_count": 37,
      "outputs": []
    },
    {
      "cell_type": "code",
      "metadata": {
        "id": "BC4cMsr2mXgc"
      },
      "source": [
        "df = pd.read_csv('/content/drive/MyDrive/data/out.csv', encoding='euc-kr')"
      ],
      "execution_count": 25,
      "outputs": []
    },
    {
      "cell_type": "code",
      "metadata": {
        "id": "DljYwJ5NnIqz"
      },
      "source": [
        "y = df['determination']\n",
        "X = df.drop(['determination'], axis=1)\n",
        "X_train, X_test, y_train, y_test = train_test_split(X, y, test_size=0.25, random_state=42)"
      ],
      "execution_count": 26,
      "outputs": []
    },
    {
      "cell_type": "markdown",
      "metadata": {
        "id": "A09wA-Xsp9Bq"
      },
      "source": [
        "Remove Missing Values"
      ]
    },
    {
      "cell_type": "code",
      "metadata": {
        "id": "llgB5ET2qAkz"
      },
      "source": [
        "train_missing = (X_train.isnull().sum() / len(X_train)).sort_values(ascending = False)"
      ],
      "execution_count": 29,
      "outputs": []
    },
    {
      "cell_type": "code",
      "metadata": {
        "colab": {
          "base_uri": "https://localhost:8080/"
        },
        "id": "QPEiH5LWqx60",
        "outputId": "f06b900c-6f9c-4d0d-9cce-975462f84cf5"
      },
      "source": [
        "train_missing.head()"
      ],
      "execution_count": 30,
      "outputs": [
        {
          "output_type": "execute_result",
          "data": {
            "text/plain": [
              "T001130    0.241487\n",
              "T001120    0.230137\n",
              "T001110    0.230137\n",
              "T001100    0.230137\n",
              "T001150    0.054599\n",
              "dtype: float64"
            ]
          },
          "metadata": {
            "tags": []
          },
          "execution_count": 30
        }
      ]
    },
    {
      "cell_type": "markdown",
      "metadata": {
        "id": "Go5ZOE2nqBSb"
      },
      "source": [
        "Remove Collinear Variables\n"
      ]
    },
    {
      "cell_type": "code",
      "metadata": {
        "colab": {
          "base_uri": "https://localhost:8080/",
          "height": 240
        },
        "id": "2_u4yCfDktHU",
        "outputId": "13a67510-0007-4fe4-f9b7-617b6fb38528"
      },
      "source": [
        "# Threshold for removing correlated variables\n",
        "threshold = 0.9\n",
        "\n",
        "# Absolute value correlation matrix\n",
        "corr_matrix = X_train.corr().abs()\n",
        "corr_matrix.head()"
      ],
      "execution_count": 32,
      "outputs": [
        {
          "output_type": "execute_result",
          "data": {
            "text/html": [
              "<div>\n",
              "<style scoped>\n",
              "    .dataframe tbody tr th:only-of-type {\n",
              "        vertical-align: middle;\n",
              "    }\n",
              "\n",
              "    .dataframe tbody tr th {\n",
              "        vertical-align: top;\n",
              "    }\n",
              "\n",
              "    .dataframe thead th {\n",
              "        text-align: right;\n",
              "    }\n",
              "</style>\n",
              "<table border=\"1\" class=\"dataframe\">\n",
              "  <thead>\n",
              "    <tr style=\"text-align: right;\">\n",
              "      <th></th>\n",
              "      <th>checkup_result_data_key</th>\n",
              "      <th>age</th>\n",
              "      <th>T001000</th>\n",
              "      <th>T001010</th>\n",
              "      <th>T001020</th>\n",
              "      <th>T001030</th>\n",
              "      <th>T001040-1</th>\n",
              "      <th>T001040-2</th>\n",
              "      <th>T001050</th>\n",
              "      <th>T001060</th>\n",
              "      <th>T001061</th>\n",
              "      <th>T001070</th>\n",
              "      <th>T001080</th>\n",
              "      <th>T001090</th>\n",
              "      <th>T001100</th>\n",
              "      <th>T001110</th>\n",
              "      <th>T001120</th>\n",
              "      <th>T001130</th>\n",
              "      <th>T001140</th>\n",
              "      <th>T001150</th>\n",
              "      <th>T001160</th>\n",
              "      <th>T001170</th>\n",
              "      <th>T001180</th>\n",
              "      <th>T001190</th>\n",
              "    </tr>\n",
              "  </thead>\n",
              "  <tbody>\n",
              "    <tr>\n",
              "      <th>checkup_result_data_key</th>\n",
              "      <td>1.000000</td>\n",
              "      <td>0.160771</td>\n",
              "      <td>0.036609</td>\n",
              "      <td>0.006053</td>\n",
              "      <td>0.028965</td>\n",
              "      <td>0.017361</td>\n",
              "      <td>0.026430</td>\n",
              "      <td>0.010356</td>\n",
              "      <td>0.027736</td>\n",
              "      <td>0.003624</td>\n",
              "      <td>0.013224</td>\n",
              "      <td>0.001187</td>\n",
              "      <td>0.004229</td>\n",
              "      <td>0.009083</td>\n",
              "      <td>0.012653</td>\n",
              "      <td>0.014273</td>\n",
              "      <td>0.006223</td>\n",
              "      <td>0.016137</td>\n",
              "      <td>0.006838</td>\n",
              "      <td>0.035267</td>\n",
              "      <td>0.021165</td>\n",
              "      <td>0.006040</td>\n",
              "      <td>0.039948</td>\n",
              "      <td>0.038194</td>\n",
              "    </tr>\n",
              "    <tr>\n",
              "      <th>age</th>\n",
              "      <td>0.160771</td>\n",
              "      <td>1.000000</td>\n",
              "      <td>0.062264</td>\n",
              "      <td>0.054127</td>\n",
              "      <td>0.129040</td>\n",
              "      <td>0.016006</td>\n",
              "      <td>0.081260</td>\n",
              "      <td>0.110949</td>\n",
              "      <td>0.127329</td>\n",
              "      <td>0.126955</td>\n",
              "      <td>0.080532</td>\n",
              "      <td>0.007051</td>\n",
              "      <td>0.003688</td>\n",
              "      <td>0.155420</td>\n",
              "      <td>0.035451</td>\n",
              "      <td>0.024834</td>\n",
              "      <td>0.035886</td>\n",
              "      <td>0.012091</td>\n",
              "      <td>0.044761</td>\n",
              "      <td>0.214111</td>\n",
              "      <td>0.065923</td>\n",
              "      <td>0.052966</td>\n",
              "      <td>0.019961</td>\n",
              "      <td>0.184438</td>\n",
              "    </tr>\n",
              "    <tr>\n",
              "      <th>T001000</th>\n",
              "      <td>0.036609</td>\n",
              "      <td>0.062264</td>\n",
              "      <td>1.000000</td>\n",
              "      <td>0.246760</td>\n",
              "      <td>0.152212</td>\n",
              "      <td>0.052792</td>\n",
              "      <td>0.032727</td>\n",
              "      <td>0.004647</td>\n",
              "      <td>0.007958</td>\n",
              "      <td>0.060958</td>\n",
              "      <td>0.050814</td>\n",
              "      <td>0.005156</td>\n",
              "      <td>0.165952</td>\n",
              "      <td>0.016829</td>\n",
              "      <td>0.002837</td>\n",
              "      <td>0.092648</td>\n",
              "      <td>0.068469</td>\n",
              "      <td>0.004015</td>\n",
              "      <td>0.022656</td>\n",
              "      <td>0.013245</td>\n",
              "      <td>0.026533</td>\n",
              "      <td>0.046837</td>\n",
              "      <td>0.031725</td>\n",
              "      <td>0.005510</td>\n",
              "    </tr>\n",
              "    <tr>\n",
              "      <th>T001010</th>\n",
              "      <td>0.006053</td>\n",
              "      <td>0.054127</td>\n",
              "      <td>0.246760</td>\n",
              "      <td>1.000000</td>\n",
              "      <td>0.859240</td>\n",
              "      <td>0.845614</td>\n",
              "      <td>0.024667</td>\n",
              "      <td>0.032849</td>\n",
              "      <td>0.016122</td>\n",
              "      <td>0.317581</td>\n",
              "      <td>0.289495</td>\n",
              "      <td>0.032630</td>\n",
              "      <td>0.415670</td>\n",
              "      <td>0.158487</td>\n",
              "      <td>0.042677</td>\n",
              "      <td>0.356586</td>\n",
              "      <td>0.297061</td>\n",
              "      <td>0.033308</td>\n",
              "      <td>0.052432</td>\n",
              "      <td>0.023432</td>\n",
              "      <td>0.206802</td>\n",
              "      <td>0.360171</td>\n",
              "      <td>0.258571</td>\n",
              "      <td>0.043388</td>\n",
              "    </tr>\n",
              "    <tr>\n",
              "      <th>T001020</th>\n",
              "      <td>0.028965</td>\n",
              "      <td>0.129040</td>\n",
              "      <td>0.152212</td>\n",
              "      <td>0.859240</td>\n",
              "      <td>1.000000</td>\n",
              "      <td>0.815316</td>\n",
              "      <td>0.010067</td>\n",
              "      <td>0.000973</td>\n",
              "      <td>0.006593</td>\n",
              "      <td>0.329640</td>\n",
              "      <td>0.304180</td>\n",
              "      <td>0.037230</td>\n",
              "      <td>0.377861</td>\n",
              "      <td>0.195587</td>\n",
              "      <td>0.050898</td>\n",
              "      <td>0.359926</td>\n",
              "      <td>0.293942</td>\n",
              "      <td>0.040998</td>\n",
              "      <td>0.048249</td>\n",
              "      <td>0.031061</td>\n",
              "      <td>0.223054</td>\n",
              "      <td>0.357610</td>\n",
              "      <td>0.289718</td>\n",
              "      <td>0.003210</td>\n",
              "    </tr>\n",
              "  </tbody>\n",
              "</table>\n",
              "</div>"
            ],
            "text/plain": [
              "                         checkup_result_data_key       age  ...   T001180   T001190\n",
              "checkup_result_data_key                 1.000000  0.160771  ...  0.039948  0.038194\n",
              "age                                     0.160771  1.000000  ...  0.019961  0.184438\n",
              "T001000                                 0.036609  0.062264  ...  0.031725  0.005510\n",
              "T001010                                 0.006053  0.054127  ...  0.258571  0.043388\n",
              "T001020                                 0.028965  0.129040  ...  0.289718  0.003210\n",
              "\n",
              "[5 rows x 24 columns]"
            ]
          },
          "metadata": {
            "tags": []
          },
          "execution_count": 32
        }
      ]
    },
    {
      "cell_type": "code",
      "metadata": {
        "id": "X3BkMajxsEnT"
      },
      "source": [
        "upper = corr_matrix.where(np.triu(np.ones(corr_matrix.shape), k=1).astype(np.bool))"
      ],
      "execution_count": 38,
      "outputs": []
    },
    {
      "cell_type": "code",
      "metadata": {
        "colab": {
          "base_uri": "https://localhost:8080/"
        },
        "id": "l5peVrQ8mX7b",
        "outputId": "f5194a43-a509-4648-90e9-a9b819be8ca3"
      },
      "source": [
        "to_drop = [column for column in upper.columns if any(upper[column] > threshold)]\n",
        "print('There are %d columns to remove.' % (len(to_drop)))"
      ],
      "execution_count": 39,
      "outputs": [
        {
          "output_type": "stream",
          "text": [
            "There are 0 columns to remove.\n"
          ],
          "name": "stdout"
        }
      ]
    },
    {
      "cell_type": "code",
      "metadata": {
        "colab": {
          "base_uri": "https://localhost:8080/"
        },
        "id": "5D_w_VKUmjKj",
        "outputId": "5e50a6b2-1c59-47ad-c54a-0ea239c5e3c3"
      },
      "source": [
        "X_train = X_train.drop(columns = to_drop)\n",
        "X_test = X_test.drop(columns = to_drop)\n",
        "\n",
        "print('Training shape: ', X_train.shape)\n",
        "print('Testing shape: ', X_test.shape)"
      ],
      "execution_count": 41,
      "outputs": [
        {
          "output_type": "stream",
          "text": [
            "Training shape:  (5110, 24)\n",
            "Testing shape:  (1704, 24)\n"
          ],
          "name": "stdout"
        }
      ]
    },
    {
      "cell_type": "code",
      "metadata": {
        "id": "NkEe1ZjdsUfL"
      },
      "source": [
        ""
      ],
      "execution_count": null,
      "outputs": []
    }
  ]
}